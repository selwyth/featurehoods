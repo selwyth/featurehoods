{
 "cells": [
  {
   "cell_type": "code",
   "execution_count": 1,
   "metadata": {
    "collapsed": true
   },
   "outputs": [],
   "source": [
    "# pulling from Oracle transaction database at work -- I ran it once, you should read 2 cells down to pull from local drive\n",
    "import cx_Oracle\n",
    "import pandas.io.sql as sql\n",
    "import yaml\n",
    "import os \n",
    "\n",
    "cred = yaml.load(open(os.path.expanduser('prod_cred.yml')))\n",
    "conn = cx_Oracle.connect(cred['USER'] + '/' + cred['PW'] + '@PROD')\n",
    "base = sql.read_sql(\n",
    "    \"\"\"\n",
    "    select assessed_land_value, assessed_total_value, assessed_imp_value, \n",
    "        zip, \n",
    "        full_bathroom_count + partial_bathroom_count * 0.5 bath,\n",
    "        bedroom_count as bed,\n",
    "        2009 - year_built as age,\n",
    "        stories,\n",
    "        garage_type,\n",
    "        parking,\n",
    "        total_units,\n",
    "        pool,\n",
    "        fireplace,\n",
    "        property_type,\n",
    "        lot_size,\n",
    "        fidelity_latitude,\n",
    "        fidelity_longitude\n",
    "        \n",
    "        from bdr.fidelity_assessment_record f\n",
    "        JOIN bdr.zipcode_city_mapping zcm ON f.zip = zcm.zipcode\n",
    "        WHERE zcm.mls_table = 'MLS_CA_BA'\n",
    "        and assessment_year = 2009\n",
    "        and lot_size > 0\n",
    "    \"\"\", conn)\n",
    "\n",
    "base.to_csv(path_or_buf = 'base.csv')"
   ]
  },
  {
   "cell_type": "code",
   "execution_count": null,
   "metadata": {
    "collapsed": false
   },
   "outputs": [],
   "source": [
    "from sklearn.cross_validation import train_test_split\n",
    "\n",
    "base_l, base_s = train_test_split(base, test_size = 1000, random_state = 32)\n",
    "base_s = pd.DataFrame(base_s, columns = base.columns)\n",
    "base_s.to_csv('base_s.csv')"
   ]
  },
  {
   "cell_type": "markdown",
   "metadata": {},
   "source": [
    "#READ THIS\n",
    "The full data (base.csv) is too big for GitHub, so I sample 1000 random rows into base_s.csv (using train_test_split) with the step above. If using the full data (not on GitHub), run everything below; if using the sample data, adjust the cell below to read from base_s.csv instead of base.csv.\n",
    "\n",
    "For most applications, do not run the 2 cells above this one."
   ]
  },
  {
   "cell_type": "code",
   "execution_count": 3,
   "metadata": {
    "collapsed": false
   },
   "outputs": [
    {
     "name": "stdout",
     "output_type": "stream",
     "text": [
      "1558278\n"
     ]
    },
    {
     "name": "stderr",
     "output_type": "stream",
     "text": [
      "C:\\Users\\dfeng\\AppData\\Local\\Continuum\\Anaconda\\lib\\site-packages\\pandas\\io\\parsers.py:1130: DtypeWarning: Columns (8,12,13) have mixed types. Specify dtype option on import or set low_memory=False.\n",
      "  data = self._reader.read(nrows)\n"
     ]
    },
    {
     "data": {
      "text/html": [
       "<div style=\"max-height:1000px;max-width:1500px;overflow:auto;\">\n",
       "<table border=\"1\" class=\"dataframe\">\n",
       "  <thead>\n",
       "    <tr style=\"text-align: right;\">\n",
       "      <th></th>\n",
       "      <th>Unnamed: 0</th>\n",
       "      <th>ASSESSED_LAND_VALUE</th>\n",
       "      <th>ASSESSED_TOTAL_VALUE</th>\n",
       "      <th>ASSESSED_IMP_VALUE</th>\n",
       "      <th>ZIP</th>\n",
       "      <th>BATH</th>\n",
       "      <th>BED</th>\n",
       "      <th>AGE</th>\n",
       "      <th>STORIES</th>\n",
       "      <th>GARAGE_TYPE</th>\n",
       "      <th>PARKING</th>\n",
       "      <th>TOTAL_UNITS</th>\n",
       "      <th>POOL</th>\n",
       "      <th>FIREPLACE</th>\n",
       "      <th>PROPERTY_TYPE</th>\n",
       "      <th>LOT_SIZE</th>\n",
       "      <th>FIDELITY_LATITUDE</th>\n",
       "      <th>FIDELITY_LONGITUDE</th>\n",
       "    </tr>\n",
       "  </thead>\n",
       "  <tbody>\n",
       "    <tr>\n",
       "      <th>0</th>\n",
       "      <td> 0</td>\n",
       "      <td>  23503</td>\n",
       "      <td>   9688</td>\n",
       "      <td>  33191</td>\n",
       "      <td> 94607</td>\n",
       "      <td> 1.0</td>\n",
       "      <td> 2</td>\n",
       "      <td> 119</td>\n",
       "      <td>   1</td>\n",
       "      <td>   G</td>\n",
       "      <td> 0</td>\n",
       "      <td> 0</td>\n",
       "      <td> NaN</td>\n",
       "      <td> NaN</td>\n",
       "      <td> NaN</td>\n",
       "      <td> 6450</td>\n",
       "      <td> 37.812862</td>\n",
       "      <td>-122.284366</td>\n",
       "    </tr>\n",
       "    <tr>\n",
       "      <th>1</th>\n",
       "      <td> 1</td>\n",
       "      <td>  51918</td>\n",
       "      <td> 121142</td>\n",
       "      <td> 173060</td>\n",
       "      <td> 94607</td>\n",
       "      <td> 2.0</td>\n",
       "      <td> 6</td>\n",
       "      <td> 118</td>\n",
       "      <td>   2</td>\n",
       "      <td> NaN</td>\n",
       "      <td> 0</td>\n",
       "      <td> 2</td>\n",
       "      <td> NaN</td>\n",
       "      <td> NaN</td>\n",
       "      <td> NaN</td>\n",
       "      <td> 4690</td>\n",
       "      <td> 37.812487</td>\n",
       "      <td>-122.280142</td>\n",
       "    </tr>\n",
       "    <tr>\n",
       "      <th>2</th>\n",
       "      <td> 2</td>\n",
       "      <td>  35703</td>\n",
       "      <td>  24221</td>\n",
       "      <td>  59924</td>\n",
       "      <td> 94610</td>\n",
       "      <td> 1.5</td>\n",
       "      <td> 2</td>\n",
       "      <td>  87</td>\n",
       "      <td>   1</td>\n",
       "      <td>   G</td>\n",
       "      <td> 0</td>\n",
       "      <td> 0</td>\n",
       "      <td> NaN</td>\n",
       "      <td> NaN</td>\n",
       "      <td> NaN</td>\n",
       "      <td> 3666</td>\n",
       "      <td> 37.813370</td>\n",
       "      <td>-122.246670</td>\n",
       "    </tr>\n",
       "    <tr>\n",
       "      <th>3</th>\n",
       "      <td> 3</td>\n",
       "      <td> 217500</td>\n",
       "      <td> 507500</td>\n",
       "      <td> 725000</td>\n",
       "      <td> 94610</td>\n",
       "      <td> 1.5</td>\n",
       "      <td> 4</td>\n",
       "      <td>  94</td>\n",
       "      <td> 1.5</td>\n",
       "      <td>   G</td>\n",
       "      <td> 0</td>\n",
       "      <td> 0</td>\n",
       "      <td> NaN</td>\n",
       "      <td> NaN</td>\n",
       "      <td> NaN</td>\n",
       "      <td> 5120</td>\n",
       "      <td> 37.816322</td>\n",
       "      <td>-122.248903</td>\n",
       "    </tr>\n",
       "    <tr>\n",
       "      <th>4</th>\n",
       "      <td> 4</td>\n",
       "      <td> 190200</td>\n",
       "      <td> 443800</td>\n",
       "      <td> 634000</td>\n",
       "      <td> 94610</td>\n",
       "      <td> 1.5</td>\n",
       "      <td> 3</td>\n",
       "      <td>  84</td>\n",
       "      <td>   2</td>\n",
       "      <td>   G</td>\n",
       "      <td> 0</td>\n",
       "      <td> 0</td>\n",
       "      <td> NaN</td>\n",
       "      <td> NaN</td>\n",
       "      <td> NaN</td>\n",
       "      <td> 3150</td>\n",
       "      <td> 37.817159</td>\n",
       "      <td>-122.249869</td>\n",
       "    </tr>\n",
       "  </tbody>\n",
       "</table>\n",
       "</div>"
      ],
      "text/plain": [
       "   Unnamed: 0  ASSESSED_LAND_VALUE  ASSESSED_TOTAL_VALUE  ASSESSED_IMP_VALUE  \\\n",
       "0           0                23503                  9688               33191   \n",
       "1           1                51918                121142              173060   \n",
       "2           2                35703                 24221               59924   \n",
       "3           3               217500                507500              725000   \n",
       "4           4               190200                443800              634000   \n",
       "\n",
       "     ZIP  BATH  BED  AGE STORIES GARAGE_TYPE  PARKING  TOTAL_UNITS POOL  \\\n",
       "0  94607   1.0    2  119       1           G        0            0  NaN   \n",
       "1  94607   2.0    6  118       2         NaN        0            2  NaN   \n",
       "2  94610   1.5    2   87       1           G        0            0  NaN   \n",
       "3  94610   1.5    4   94     1.5           G        0            0  NaN   \n",
       "4  94610   1.5    3   84       2           G        0            0  NaN   \n",
       "\n",
       "  FIREPLACE PROPERTY_TYPE  LOT_SIZE  FIDELITY_LATITUDE  FIDELITY_LONGITUDE  \n",
       "0       NaN           NaN      6450          37.812862         -122.284366  \n",
       "1       NaN           NaN      4690          37.812487         -122.280142  \n",
       "2       NaN           NaN      3666          37.813370         -122.246670  \n",
       "3       NaN           NaN      5120          37.816322         -122.248903  \n",
       "4       NaN           NaN      3150          37.817159         -122.249869  "
      ]
     },
     "execution_count": 3,
     "metadata": {},
     "output_type": "execute_result"
    }
   ],
   "source": [
    "import pandas as pd\n",
    "\n",
    "base = pd.read_csv('base.csv')\n",
    "print len(base)\n",
    "base.head()"
   ]
  },
  {
   "cell_type": "code",
   "execution_count": 4,
   "metadata": {
    "collapsed": false
   },
   "outputs": [],
   "source": [
    "base = base.drop('Unnamed: 0', axis = 1)\n",
    "base.head().T.to_csv('data_example.csv')"
   ]
  },
  {
   "cell_type": "code",
   "execution_count": 5,
   "metadata": {
    "collapsed": false
   },
   "outputs": [
    {
     "data": {
      "text/html": [
       "<div style=\"max-height:1000px;max-width:1500px;overflow:auto;\">\n",
       "<table border=\"1\" class=\"dataframe\">\n",
       "  <thead>\n",
       "    <tr style=\"text-align: right;\">\n",
       "      <th></th>\n",
       "      <th>count</th>\n",
       "      <th>mean</th>\n",
       "      <th>std</th>\n",
       "      <th>min</th>\n",
       "      <th>25%</th>\n",
       "      <th>50%</th>\n",
       "      <th>75%</th>\n",
       "      <th>max</th>\n",
       "    </tr>\n",
       "  </thead>\n",
       "  <tbody>\n",
       "    <tr>\n",
       "      <th>ASSESSED_LAND_VALUE</th>\n",
       "      <td> 1558278</td>\n",
       "      <td> 173641.223270</td>\n",
       "      <td> 306787.064111</td>\n",
       "      <td>     0.000000</td>\n",
       "      <td>  46616.000000</td>\n",
       "      <td> 101761.000000</td>\n",
       "      <td> 206400.000000</td>\n",
       "      <td> 1.134974e+08</td>\n",
       "    </tr>\n",
       "    <tr>\n",
       "      <th>ASSESSED_TOTAL_VALUE</th>\n",
       "      <td> 1558278</td>\n",
       "      <td> 204622.388653</td>\n",
       "      <td> 239538.804009</td>\n",
       "      <td>     0.000000</td>\n",
       "      <td>  83766.000000</td>\n",
       "      <td> 160509.000000</td>\n",
       "      <td> 261788.500000</td>\n",
       "      <td> 7.808417e+07</td>\n",
       "    </tr>\n",
       "    <tr>\n",
       "      <th>ASSESSED_IMP_VALUE</th>\n",
       "      <td> 1558278</td>\n",
       "      <td> 378263.611922</td>\n",
       "      <td> 471608.242032</td>\n",
       "      <td>     0.000000</td>\n",
       "      <td> 144973.250000</td>\n",
       "      <td> 281639.000000</td>\n",
       "      <td> 478592.750000</td>\n",
       "      <td> 1.134974e+08</td>\n",
       "    </tr>\n",
       "    <tr>\n",
       "      <th>ZIP</th>\n",
       "      <td> 1558278</td>\n",
       "      <td>  94742.482704</td>\n",
       "      <td>    392.571872</td>\n",
       "      <td> 93109.000000</td>\n",
       "      <td>  94534.000000</td>\n",
       "      <td>  94597.000000</td>\n",
       "      <td>  95051.000000</td>\n",
       "      <td> 9.600100e+04</td>\n",
       "    </tr>\n",
       "    <tr>\n",
       "      <th>BATH</th>\n",
       "      <td> 1558278</td>\n",
       "      <td>      1.985419</td>\n",
       "      <td>      0.946865</td>\n",
       "      <td>     0.000000</td>\n",
       "      <td>      1.000000</td>\n",
       "      <td>      2.000000</td>\n",
       "      <td>      2.500000</td>\n",
       "      <td> 2.000000e+01</td>\n",
       "    </tr>\n",
       "    <tr>\n",
       "      <th>BED</th>\n",
       "      <td> 1558278</td>\n",
       "      <td>      2.880011</td>\n",
       "      <td>      1.392383</td>\n",
       "      <td>     0.000000</td>\n",
       "      <td>      2.000000</td>\n",
       "      <td>      3.000000</td>\n",
       "      <td>      4.000000</td>\n",
       "      <td> 2.000000e+01</td>\n",
       "    </tr>\n",
       "    <tr>\n",
       "      <th>AGE</th>\n",
       "      <td> 1466427</td>\n",
       "      <td>     44.196920</td>\n",
       "      <td>     24.995731</td>\n",
       "      <td>     0.000000</td>\n",
       "      <td>     25.000000</td>\n",
       "      <td>     43.000000</td>\n",
       "      <td>     58.000000</td>\n",
       "      <td> 1.990000e+02</td>\n",
       "    </tr>\n",
       "    <tr>\n",
       "      <th>PARKING</th>\n",
       "      <td> 1558278</td>\n",
       "      <td>      1.272550</td>\n",
       "      <td>     11.772471</td>\n",
       "      <td>     0.000000</td>\n",
       "      <td>      0.000000</td>\n",
       "      <td>      1.000000</td>\n",
       "      <td>      2.000000</td>\n",
       "      <td> 2.700000e+03</td>\n",
       "    </tr>\n",
       "    <tr>\n",
       "      <th>TOTAL_UNITS</th>\n",
       "      <td> 1558278</td>\n",
       "      <td>      0.215387</td>\n",
       "      <td>      0.933769</td>\n",
       "      <td>     0.000000</td>\n",
       "      <td>      0.000000</td>\n",
       "      <td>      0.000000</td>\n",
       "      <td>      0.000000</td>\n",
       "      <td> 3.000000e+02</td>\n",
       "    </tr>\n",
       "    <tr>\n",
       "      <th>LOT_SIZE</th>\n",
       "      <td> 1558278</td>\n",
       "      <td>   6783.750177</td>\n",
       "      <td>  40797.599576</td>\n",
       "      <td>     1.000000</td>\n",
       "      <td>   3637.000000</td>\n",
       "      <td>   5950.000000</td>\n",
       "      <td>   7841.000000</td>\n",
       "      <td> 4.250000e+07</td>\n",
       "    </tr>\n",
       "    <tr>\n",
       "      <th>FIDELITY_LATITUDE</th>\n",
       "      <td> 1558278</td>\n",
       "      <td>     37.547646</td>\n",
       "      <td>      2.905062</td>\n",
       "      <td>     0.000000</td>\n",
       "      <td>     37.396400</td>\n",
       "      <td>     37.767650</td>\n",
       "      <td>     37.992026</td>\n",
       "      <td> 4.066049e+01</td>\n",
       "    </tr>\n",
       "    <tr>\n",
       "      <th>FIDELITY_LONGITUDE</th>\n",
       "      <td> 1558278</td>\n",
       "      <td>   -121.417399</td>\n",
       "      <td>      9.301550</td>\n",
       "      <td>  -123.332225</td>\n",
       "      <td>   -122.306844</td>\n",
       "      <td>   -122.066369</td>\n",
       "      <td>   -121.914788</td>\n",
       "      <td> 0.000000e+00</td>\n",
       "    </tr>\n",
       "  </tbody>\n",
       "</table>\n",
       "</div>"
      ],
      "text/plain": [
       "                        count           mean            std           min  \\\n",
       "ASSESSED_LAND_VALUE   1558278  173641.223270  306787.064111      0.000000   \n",
       "ASSESSED_TOTAL_VALUE  1558278  204622.388653  239538.804009      0.000000   \n",
       "ASSESSED_IMP_VALUE    1558278  378263.611922  471608.242032      0.000000   \n",
       "ZIP                   1558278   94742.482704     392.571872  93109.000000   \n",
       "BATH                  1558278       1.985419       0.946865      0.000000   \n",
       "BED                   1558278       2.880011       1.392383      0.000000   \n",
       "AGE                   1466427      44.196920      24.995731      0.000000   \n",
       "PARKING               1558278       1.272550      11.772471      0.000000   \n",
       "TOTAL_UNITS           1558278       0.215387       0.933769      0.000000   \n",
       "LOT_SIZE              1558278    6783.750177   40797.599576      1.000000   \n",
       "FIDELITY_LATITUDE     1558278      37.547646       2.905062      0.000000   \n",
       "FIDELITY_LONGITUDE    1558278    -121.417399       9.301550   -123.332225   \n",
       "\n",
       "                                25%            50%            75%  \\\n",
       "ASSESSED_LAND_VALUE    46616.000000  101761.000000  206400.000000   \n",
       "ASSESSED_TOTAL_VALUE   83766.000000  160509.000000  261788.500000   \n",
       "ASSESSED_IMP_VALUE    144973.250000  281639.000000  478592.750000   \n",
       "ZIP                    94534.000000   94597.000000   95051.000000   \n",
       "BATH                       1.000000       2.000000       2.500000   \n",
       "BED                        2.000000       3.000000       4.000000   \n",
       "AGE                       25.000000      43.000000      58.000000   \n",
       "PARKING                    0.000000       1.000000       2.000000   \n",
       "TOTAL_UNITS                0.000000       0.000000       0.000000   \n",
       "LOT_SIZE                3637.000000    5950.000000    7841.000000   \n",
       "FIDELITY_LATITUDE         37.396400      37.767650      37.992026   \n",
       "FIDELITY_LONGITUDE      -122.306844    -122.066369    -121.914788   \n",
       "\n",
       "                               max  \n",
       "ASSESSED_LAND_VALUE   1.134974e+08  \n",
       "ASSESSED_TOTAL_VALUE  7.808417e+07  \n",
       "ASSESSED_IMP_VALUE    1.134974e+08  \n",
       "ZIP                   9.600100e+04  \n",
       "BATH                  2.000000e+01  \n",
       "BED                   2.000000e+01  \n",
       "AGE                   1.990000e+02  \n",
       "PARKING               2.700000e+03  \n",
       "TOTAL_UNITS           3.000000e+02  \n",
       "LOT_SIZE              4.250000e+07  \n",
       "FIDELITY_LATITUDE     4.066049e+01  \n",
       "FIDELITY_LONGITUDE    0.000000e+00  "
      ]
     },
     "execution_count": 5,
     "metadata": {},
     "output_type": "execute_result"
    }
   ],
   "source": [
    "base.describe().T"
   ]
  },
  {
   "cell_type": "code",
   "execution_count": 6,
   "metadata": {
    "collapsed": false
   },
   "outputs": [
    {
     "name": "stdout",
     "output_type": "stream",
     "text": [
      "ASSESSED_LAND_VALUE: 1694\n",
      "ASSESSED_TOTAL_VALUE: 41902\n",
      "ASSESSED_IMP_VALUE: 1669\n",
      "ZIP: 0\n",
      "BATH: 98502\n",
      "BED: 180468\n",
      "AGE: 486\n",
      "STORIES: 0\n",
      "GARAGE_TYPE: 0\n",
      "PARKING: 650849\n",
      "TOTAL_UNITS: 1314170\n",
      "POOL: 0\n",
      "FIREPLACE: 0\n",
      "PROPERTY_TYPE: 0\n",
      "LOT_SIZE: 0\n",
      "FIDELITY_LATITUDE: 9081\n",
      "FIDELITY_LONGITUDE: 9081\n"
     ]
    }
   ],
   "source": [
    "# how bad are the zeros?\n",
    "\n",
    "for i in base.columns:\n",
    "    print i + ': ' + str((base[i] == 0).sum())"
   ]
  },
  {
   "cell_type": "code",
   "execution_count": 7,
   "metadata": {
    "collapsed": true
   },
   "outputs": [],
   "source": [
    "base = base[base.ASSESSED_TOTAL_VALUE > 0] # remove Land\n",
    "base = base[base.FIDELITY_LATITUDE > 0] # remove properties with no lat/long information\n",
    "base = base[base.ASSESSED_LAND_VALUE > 0] # remove properties with no land value"
   ]
  },
  {
   "cell_type": "code",
   "execution_count": 8,
   "metadata": {
    "collapsed": false
   },
   "outputs": [
    {
     "name": "stdout",
     "output_type": "stream",
     "text": [
      "ASSESSED_LAND_VALUE: 0\n",
      "ASSESSED_TOTAL_VALUE: 0\n",
      "ASSESSED_IMP_VALUE: 0\n",
      "ZIP: 0\n",
      "BATH: 57837\n",
      "BED: 139695\n",
      "AGE: 444\n",
      "STORIES: 0\n",
      "GARAGE_TYPE: 0\n",
      "PARKING: 609447\n",
      "TOTAL_UNITS: 1271159\n",
      "POOL: 0\n",
      "FIREPLACE: 0\n",
      "PROPERTY_TYPE: 0\n",
      "LOT_SIZE: 0\n",
      "FIDELITY_LATITUDE: 0\n",
      "FIDELITY_LONGITUDE: 0\n"
     ]
    }
   ],
   "source": [
    "for i in base.columns:\n",
    "    print i + ': ' + str((base[i] == 0).sum())"
   ]
  },
  {
   "cell_type": "markdown",
   "metadata": {},
   "source": [
    "Large # of properties with no bath, no bed, have to check if it's right or if it's studio."
   ]
  },
  {
   "cell_type": "code",
   "execution_count": 9,
   "metadata": {
    "collapsed": false
   },
   "outputs": [
    {
     "data": {
      "text/plain": [
       "ASSESSED_LAND_VALUE           0\n",
       "ASSESSED_TOTAL_VALUE          0\n",
       "ASSESSED_IMP_VALUE            0\n",
       "ZIP                           0\n",
       "BATH                          0\n",
       "BED                           0\n",
       "AGE                       52146\n",
       "STORIES                  460074\n",
       "GARAGE_TYPE              364663\n",
       "PARKING                       0\n",
       "TOTAL_UNITS                   0\n",
       "POOL                    1383176\n",
       "FIREPLACE               1298910\n",
       "PROPERTY_TYPE           1442674\n",
       "LOT_SIZE                      0\n",
       "FIDELITY_LATITUDE             0\n",
       "FIDELITY_LONGITUDE            0\n",
       "dtype: int64"
      ]
     },
     "execution_count": 9,
     "metadata": {},
     "output_type": "execute_result"
    }
   ],
   "source": [
    "len(base) - base.count() # how many errors?"
   ]
  },
  {
   "cell_type": "code",
   "execution_count": 10,
   "metadata": {
    "collapsed": false
   },
   "outputs": [
    {
     "data": {
      "text/plain": [
       "SFR    41594\n",
       "PUD    11742\n",
       "CND     9240\n",
       "MFD     6290\n",
       "RES     1662\n",
       "2ND      908\n",
       "MFG       24\n",
       "COM        1\n",
       "MOH        1\n",
       "AGR        1\n",
       "dtype: int64"
      ]
     },
     "execution_count": 10,
     "metadata": {},
     "output_type": "execute_result"
    }
   ],
   "source": [
    "base.PROPERTY_TYPE.value_counts()"
   ]
  },
  {
   "cell_type": "markdown",
   "metadata": {},
   "source": [
    "PROPERTY_TYPE does not look useful, the missing data appears to be non-trivial\n",
    "\n",
    "With AGE, I'll assume missing data = 0 or avg or see/look up how the algorithm handles it.<br>\n",
    "With STORIES, I'll assume missing data = 1<br>\n",
    "With GARAGE_TYPE, POOL and FIERPLACE, I'll assume missing data = None (or Unknown if None turns out to be common)"
   ]
  }
 ],
 "metadata": {
  "kernelspec": {
   "display_name": "Python 2",
   "language": "python",
   "name": "python2"
  },
  "language_info": {
   "codemirror_mode": {
    "name": "ipython",
    "version": 2
   },
   "file_extension": ".py",
   "mimetype": "text/x-python",
   "name": "python",
   "nbconvert_exporter": "python",
   "pygments_lexer": "ipython2",
   "version": "2.7.7"
  }
 },
 "nbformat": 4,
 "nbformat_minor": 0
}
