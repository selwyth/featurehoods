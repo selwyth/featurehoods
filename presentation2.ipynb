{
 "cells": [
  {
   "cell_type": "markdown",
   "metadata": {
    "slideshow": {
     "slide_type": "slide"
    }
   },
   "source": [
    "## 0. Data Science Primer"
   ]
  },
  {
   "cell_type": "code",
   "execution_count": 1,
   "metadata": {
    "collapsed": false,
    "slideshow": {
     "slide_type": "subslide"
    }
   },
   "outputs": [
    {
     "data": {
      "text/plain": [
       "([], <a list of 0 Text xticklabel objects>)"
      ]
     },
     "execution_count": 1,
     "metadata": {},
     "output_type": "execute_result"
    },
    {
     "data": {
      "image/png": "[encoded data removed]",
      "text/plain": [
       "<matplotlib.figure.Figure at 0x18f00ac8>"
      ]
     },
     "metadata": {},
     "output_type": "display_data"
    }
   ],
   "source": [
    "import pandas as pd\n",
    "import matplotlib.pyplot as plt\n",
    "import seaborn as sns\n",
    "%matplotlib inline\n",
    "\n",
    "df = pd.DataFrame({\n",
    "    'What you think I do' : [0.1, 0, 0.9],\n",
    "    'What I actually do' : [0.7, 0.2, 0.1]\n",
    "    }, index =['Data Preparation', 'Visualization', 'Machine Learning'])\n",
    "\n",
    "df.T.plot(kind='barh', stacked=True)\n",
    "plt.title('Data Science')\n",
    "plt.xticks([])"
   ]
  },
  {
   "cell_type": "markdown",
   "metadata": {
    "slideshow": {
     "slide_type": "subslide"
    }
   },
   "source": [
    "SciPy / IPython / Scientific computing stack in Python\n",
    "- pandas\n",
    "- numpy\n",
    "- scipy\n",
    "- matplotlib\n",
    "- scikit-learn\n",
    "\n",
    "Download Anaconda to get started"
   ]
  },
  {
   "cell_type": "markdown",
   "metadata": {
    "slideshow": {
     "slide_type": "subslide"
    }
   },
   "source": [
    "# Four categories of machine learning algorithms\n",
    "![machine learning](p2-img/machinelearning.png)"
   ]
  },
  {
   "cell_type": "markdown",
   "metadata": {
    "slideshow": {
     "slide_type": "subslide"
    }
   },
   "source": [
    "# Train-Test Split\n",
    "Generally for supervised problems\n",
    "![train-test-split](p2-img/test_train.png)"
   ]
  },
  {
   "cell_type": "markdown",
   "metadata": {
    "slideshow": {
     "slide_type": "fragment"
    }
   },
   "source": [
    "Training Error vs. Generalization/Out-of-Sample Error"
   ]
  },
  {
   "cell_type": "markdown",
   "metadata": {
    "slideshow": {
     "slide_type": "subslide"
    }
   },
   "source": [
    "![under_overfit](p2-img/under_overfit.png) ![overfitting_ex](p2-img/overfitting_ex.png)\n",
    "Source: dtreg.com"
   ]
  },
  {
   "cell_type": "markdown",
   "metadata": {
    "slideshow": {
     "slide_type": "subslide"
    }
   },
   "source": [
    "------------------------\n",
    "Course Outline\n",
    "------------------------\n",
    "https://github.com/ga-students/DAT_SF_12\n",
    "\n",
    "1. Intro to Data Science, Relational Databases & SQL\n",
    "    - [Awesome Public Datasets](https://github.com/caesar0301/awesome-public-datasets)\n",
    "2. Getting started with IPython & Git\n",
    "\t- [How to Use Git and GitHub](https://www.udacity.com/course/ud775)\n",
    "    - [SourceTree](https://www.atlassian.com/software/sourcetree/overview)\n",
    "    - [What’s new in IPython](http://ipython.org/ipython-doc/3/whatsnew/version3.html)\n",
    "3. APIs and semi-structured data\n",
    "\t- [Mining Twitter](http://nbviewer.ipython.org/github/ptwobrussell/Mining-the-Social-Web-2nd-Edition/blob/master/ipynb/__Chapter%201%20-%20Mining%20Twitter%20%28Full-Text%20Sampler%29.ipynb)\n",
    "4. IPython.parallel & StarCluster\n",
    "\t- [Parallel Computing with IPython](http://www.astro.washington.edu/users/vanderplas/Astr599/notebooks/21_IPythonParallel)\n",
    "    - [AWS Provisining](http://nbviewer.ipython.org/github/ga-students/DAT_SF_11/blob/master/labs/lab_18/AWS-Provisioning-IPython.ipynb)\n",
    "5. Hadoop Distributed File System and Spark\n",
    "\t- [AMP Camp 5 Exercises](http://ampcamp.berkeley.edu/5/exercises/)\n",
    "    - [Announcing Spark 1.3](https://databricks.com/blog/2015/03/13/announcing-spark-1-3.html)\n",
    "6. Intro to ML: k-Nearest Neighbor Classification\n",
    "\t- [Nearest Neighbor Methods](http://cs.nyu.edu/~dsontag/courses/ml13/slides/lecture11.pdf) (PDF Slides)\n",
    "\t- [k-Nearest Neighbor Classification Algorithm](https://www.youtube.com/watch?v=4ObVzTuFivY) (YouTube Video)\n",
    "\t- [K Nearest Neighbors](https://class.coursera.org/datasci-001/lecture/161) (Coursera Video)\n",
    "\t- [KNN for Humans](http://www.jiaaro.com/KNN-for-humans/)\n",
    "\t- [Intuitive Classification using KNN and Python](http://blog.yhathq.com/posts/classification-using-knn-and-python.html)\n",
    "\t- [Nearest Neighbors Classification](http://scikit-learn.org/stable/modules/neighbors.html#classification) (scikit-learn documentation)\n",
    "\t- [Should I normalize/standardize/rescale the data?](http://www.faqs.org/faqs/ai-faq/neural-nets/part2/section-16.html)\n",
    "7. Clustering: Hierarchical and K-Means\n",
    "\t- [A Tutorial on Clustering Algorithms](http://home.deib.polimi.it/matteucc/Clustering/tutorial_html/index.html) (web tutorial)\n",
    "    - [Hierarchical Clustering in Action](https://joyofdata.shinyapps.io/hclust-shiny/)\n",
    "\t- [K-means](http://scikit-learn.org/stable/modules/clustering.html#k-means) (scikit-learn documentation)\n",
    "\t- [Clustering: k-means](http://cs.nyu.edu/~dsontag/courses/ml13/slides/lecture14.pdf) (PDF Slides)\n",
    "\t- [Clustering: Hierarchical Clustering](http://cs.nyu.edu/~dsontag/courses/ml13/slides/lecture15.pdf) (PDF Slides)\n",
    "8. Probability, A/B Tests & Statistical Significance\n",
    "\t- [Probability and Statistics](https://www.khanacademy.org/math/probability) (Khan Academy Course)\n",
    "    - [What’s a good value for R-squared?](http://people.duke.edu/~rnau/rsquared.htm)\n",
    "\t- [Visualizing Distributions of Data](http://stanford.edu/~mwaskom/software/seaborn/tutorial/plotting_distributions.html)\n",
    "9. Multiple Linear Regression and ANOVA\n",
    "\t- [Plotting Linear Models using Seaborn](http://stanford.edu/~mwaskom/software/seaborn/tutorial/quantitative_linear_models.html)\n",
    "\t- [Why ANOVA and Linear Regression are the Same Analysis](http://www.theanalysisfactor.com/why-anova-and-linear-regression-are-the-same-analysis/)\n",
    "\t- [Linear Regresion and ANOVA](http://www.math.smith.edu/r/excerpt-4.pdf) (Examples in R)\n",
    "    - [Multiple (Linear) Regression ](http://www.statmethods.net/stats/regression.html) (Examples in R)\n",
    "10. Logistic Regression and Generlized Linear Models\n",
    "\t- [Logistic Regression in Python](http://blog.yhathq.com/posts/logistic-regression-and-python.html)\n",
    "\t- [Explaining Odds Ratios](http://www.ncbi.nlm.nih.gov/pmc/articles/PMC2938757/)\n",
    "\t- [GLM for Poisson Data](http://www.biostat.umn.edu/~dipankar/bmtry711.11/lecture_13.pdf)\n",
    "    - [Logistic Regression](scikit-learn.org/stable/modules/generated/sklearn.linear_model.LogisticRegression.html) (scikit-learn documentation)\n",
    "    - [sklearn logistic regression with unbalanced classes](http://stackoverflow.com/questions/14863125/sklearn-logistic-regression-with-unbalanced-classes)\n",
    "11. Project Elevator Pitches\n",
    "\t- See _Student Project Repos_ below\n",
    "12. Naïve Bayes, Cross Validation, ROC, AUC & Midterm Review - Part I\n",
    "    - [Bayes' Theorem with Lego](http://www.countbayesie.com/blog/2015/2/18/bayes-theorem-with-lego)\n",
    "    - [Probabilistic Programming and Bayesian Methods for Hackers](http://nbviewer.ipython.org/github/CamDavidsonPilon/Probabilistic-Programming-and-Bayesian-Methods-for-Hackers/blob/master/Chapter1_Introduction/Chapter1.ipynb)\n",
    "    - [Doing Naive Bayes Classification](http://nbviewer.ipython.org/github/arnicas/NLP-in-Python/blob/master/4.%20Naive%20Bayes%20Classification.ipynb)\n",
    "\t- [Receiver operating characteristic](http://en.wikipedia.org/wiki/Receiver_operating_characteristic) (wikipedia article)\n",
    "\t- [Receiver Operating Characteristic (ROC)](http://scikit-learn.org/stable/auto_examples/plot_roc.html) (scikit-learn documentation)\n",
    "13. Naïve Bayes, Cross Validation, ROC, AUC - Part II\n",
    "14. Principal Components Analysis\n",
    "\t- [PCA and other Decomposition Examples in scikit-learn](http://scikit-learn.org/stable/auto_examples/index.html#decomposition)\n",
    "    - [Principal Component Analysis Explained Visually](http://setosa.io/ev/principal-component-analysis/)\n",
    "    - [Should you apply PCA to your data?](http://blog.explainmydata.com/2012/07/should-you-apply-pca-to-your-data.html)\n",
    "15. Decision Trees and Forests\n",
    "    - [Decision Tree Learning](http://en.wikipedia.org/wiki/Decision_tree_learning) (Wikipedia article)\n",
    "    - [Decision Trees](https://d396qusza40orc.cloudfront.net/mmds/lecture_slides/week6_decision_trees.pdf)\n",
    "    - [How to construct a tree](https://d396qusza40orc.cloudfront.net/mmds/lecture_slides/week6_how_to_construct_a_tree.pdf)\n",
    "    - [Information gain](https://d396qusza40orc.cloudfront.net/mmds/lecture_slides/week6_information_gain.pdf)\n",
    "16. Support Vector Machines\n",
    "    - [Support Vector Machines](http://scikit-learn.org/stable/modules/svm.html) (scikit-learn documentation)\n",
    "    - [A User's Guide to Support Vector Machines](http://pyml.sourceforge.net/doc/howto.pdf)\n",
    "17. Scaling Out\n",
    "    - [numpy.memmap](http://docs.scipy.org/doc/numpy/reference/generated/numpy.memmap.html)\n",
    "    - [Feature Hashing](http://en.wikipedia.org/wiki/Feature_hashing)\n",
    "    - [HashingVectorizer](http://scikit-learn.org/stable/modules/generated/sklearn.feature_extraction.text.HashingVectorizer.html)\n",
    "    - [Vectorizing a large text corpus with the hashing trick](http://scikit-learn.org/stable/modules/feature_extraction.html#vectorizing-a-large-text-corpus-with-the-hashing-trick)\n",
    "    - [Pyrallel - Parallel Data Analytics in Python](https://github.com/pydata/pyrallel)\n",
    "    - [Online Passive-Aggressive Algorithms](http://jmlr.csail.mit.edu/papers/volume7/crammer06a/crammer06a.pdf)\n",
    "18. Recommendation Systems\n",
    "    - [Machine Learning & Recommender Systems @ Netflix Scale](http://www.slideshare.net/xamat/qcon-sf-2013-machine-learning-recommender-systems-netflix-scale)\n",
    "19. Visualization\n",
    "    - [Chart Suggestions—A Thought-Starter](http://extremepresentation.typepad.com/blog/files/choosing_a_good_chart.pdf)\n",
    "    - [Seaborn: statistical data visualization](http://stanford.edu/~mwaskom/software/seaborn/)\n",
    "    - [Welcome to Bokeh](http://bokeh.pydata.org/en/latest/)\n",
    "    - [ggplot for python](http://blog.yhathq.com/posts/ggplot-for-python.html)\n",
    "    - [plotly](https://plot.ly/)\n",
    "20. Final Project Presentations (12 min. each)\n",
    "21. Final Project Presentations (12 min. each)\n",
    "22. Future Directions "
   ]
  },
  {
   "cell_type": "markdown",
   "metadata": {
    "slideshow": {
     "slide_type": "subslide"
    }
   },
   "source": [
    "![data_science_vd](p2-img/data_science_vd.png)\n",
    "![data_science_vd2](p2-img/data_science_vd2.jpg)"
   ]
  },
  {
   "cell_type": "markdown",
   "metadata": {
    "slideshow": {
     "slide_type": "slide"
    }
   },
   "source": [
    "## 1. Final Project\n",
    "Define 'neighborhoods' in terms of similar-price, similar-home-feature clusters. "
   ]
  },
  {
   "cell_type": "markdown",
   "metadata": {
    "slideshow": {
     "slide_type": "fragment"
    }
   },
   "source": [
    " - Help us and consumers understand home/neighborhood categories and similarity (lifestyle search?)"
   ]
  },
  {
   "cell_type": "markdown",
   "metadata": {
    "slideshow": {
     "slide_type": "fragment"
    }
   },
   "source": [
    " - Recommend search areas to consumers and supplement agents' local knowledge"
   ]
  },
  {
   "cell_type": "markdown",
   "metadata": {
    "slideshow": {
     "slide_type": "fragment"
    }
   },
   "source": [
    " - Assist with relocation"
   ]
  },
  {
   "cell_type": "markdown",
   "metadata": {
    "slideshow": {
     "slide_type": "fragment"
    }
   },
   "source": [
    "- Self-enrichment\n",
    "![machinelearning](p2-img/machinelearning.png)"
   ]
  },
  {
   "cell_type": "markdown",
   "metadata": {
    "slideshow": {
     "slide_type": "slide"
    }
   },
   "source": [
    "## 2. Preparing the data\n",
    "Remember, at least 90% of the time!\n",
    "\n",
    "Fidelity property assessment data, 2009, Bay Area only"
   ]
  },
  {
   "cell_type": "code",
   "execution_count": null,
   "metadata": {
    "collapsed": true,
    "slideshow": {
     "slide_type": "subslide"
    }
   },
   "outputs": [],
   "source": [
    "# pulling from Oracle transaction database at work\n",
    "import cx_Oracle\n",
    "import pandas as pd\n",
    "import yaml\n",
    "import os \n",
    "\n",
    "cred = yaml.load(open(os.path.expanduser('prod_cred.yml')))\n",
    "conn = cx_Oracle.connect(cred['USER'] + '/' + cred['PW'] + '@PROD')\n",
    "base = pd.io.sql.read_sql(\n",
    "    \"\"\"\n",
    "    select full_address, assessed_land_value, assessed_total_value, assessed_imp_value, \n",
    "        zip, \n",
    "        full_bathroom_count + partial_bathroom_count * 0.5 bath,\n",
    "        bedroom_count as bed,\n",
    "        2009 - year_built as age,\n",
    "        stories,\n",
    "        garage_type,\n",
    "        parking,\n",
    "        total_units,\n",
    "        land_use,\n",
    "        pool,\n",
    "        fireplace,\n",
    "        property_type,\n",
    "        building_area,\n",
    "        lot_size,\n",
    "        fidelity_latitude,\n",
    "        fidelity_longitude\n",
    "        \n",
    "        from bdr.fidelity_assessment_record f\n",
    "        JOIN bdr.zipcode_city_mapping zcm ON f.zip = zcm.zipcode\n",
    "        WHERE zcm.mls_table = 'MLS_CA_BA'\n",
    "        and assessment_year = 2009\n",
    "        and lot_size > 0\n",
    "    ORDER BY address_id\n",
    "    \"\"\", conn)\n",
    "\n",
    "lookup = base.FULL_ADDRESS\n",
    "base = base.drop('FULL_ADDRESS', axis = 1)\n",
    "\n",
    "base.to_csv(path_or_buf = 'base.csv') # this outputs the csv file for analysis\n",
    "lookup.to_csv('lookup.csv') # this outputs the lookup for the anonymized properties\n",
    "\n",
    "from sklearn.cross_validation import train_test_split\n",
    "\n",
    "base_l, base_s = train_test_split(base, test_size = 1000, random_state = 32)\n",
    "base_s = pd.DataFrame(base_s, columns = base.columns)\n",
    "base_s.to_csv('base_s.csv') # this outputs a sample 1000 rows\n",
    "\n",
    "print 'SQL executed, file saved locally as base.csv'"
   ]
  },
  {
   "cell_type": "code",
   "execution_count": 2,
   "metadata": {
    "collapsed": false,
    "slideshow": {
     "slide_type": "subslide"
    }
   },
   "outputs": [
    {
     "data": {
      "text/html": [
       "<div style=\"max-height:1000px;max-width:1500px;overflow:auto;\">\n",
       "<table border=\"1\" class=\"dataframe\">\n",
       "  <thead>\n",
       "    <tr style=\"text-align: right;\">\n",
       "      <th></th>\n",
       "      <th>0</th>\n",
       "      <th>1</th>\n",
       "      <th>2</th>\n",
       "      <th>3</th>\n",
       "      <th>4</th>\n",
       "    </tr>\n",
       "  </thead>\n",
       "  <tbody>\n",
       "    <tr>\n",
       "      <th>ZIP</th>\n",
       "      <td>94607</td>\n",
       "      <td>94607</td>\n",
       "      <td>94607</td>\n",
       "      <td>94607</td>\n",
       "      <td>94607</td>\n",
       "    </tr>\n",
       "    <tr>\n",
       "      <th>FIDELITY_LATITUDE</th>\n",
       "      <td>37.803152000000004</td>\n",
       "      <td>37.803141</td>\n",
       "      <td>37.803136</td>\n",
       "      <td>37.803125</td>\n",
       "      <td>37.803093</td>\n",
       "    </tr>\n",
       "    <tr>\n",
       "      <th>FIDELITY_LONGITUDE</th>\n",
       "      <td>-122.296821</td>\n",
       "      <td>-122.29676699999999</td>\n",
       "      <td>-122.29673999999999</td>\n",
       "      <td>-122.29668500000001</td>\n",
       "      <td>-122.296523</td>\n",
       "    </tr>\n",
       "    <tr>\n",
       "      <th>ASSESSED_LAND_VALUE</th>\n",
       "      <td>15464.0</td>\n",
       "      <td>90000.0</td>\n",
       "      <td>17487.0</td>\n",
       "      <td>27290.0</td>\n",
       "      <td>18193.0</td>\n",
       "    </tr>\n",
       "    <tr>\n",
       "      <th>ASSESSED_TOTAL_VALUE</th>\n",
       "      <td>46393.0</td>\n",
       "      <td>210000.0</td>\n",
       "      <td>125805.0</td>\n",
       "      <td>56096.0</td>\n",
       "      <td>37903.0</td>\n",
       "    </tr>\n",
       "    <tr>\n",
       "      <th>ASSESSED_IMP_VALUE</th>\n",
       "      <td>61857.0</td>\n",
       "      <td>300000.0</td>\n",
       "      <td>143292.0</td>\n",
       "      <td>83386.0</td>\n",
       "      <td>56096.0</td>\n",
       "    </tr>\n",
       "    <tr>\n",
       "      <th>BED</th>\n",
       "      <td>2</td>\n",
       "      <td>2</td>\n",
       "      <td>4</td>\n",
       "      <td>4</td>\n",
       "      <td>4</td>\n",
       "    </tr>\n",
       "    <tr>\n",
       "      <th>BATH</th>\n",
       "      <td>1.0</td>\n",
       "      <td>0.5</td>\n",
       "      <td>2.0</td>\n",
       "      <td>1.5</td>\n",
       "      <td>2.0</td>\n",
       "    </tr>\n",
       "    <tr>\n",
       "      <th>BUILDING_AREA</th>\n",
       "      <td>572</td>\n",
       "      <td>572</td>\n",
       "      <td>1672</td>\n",
       "      <td>1144</td>\n",
       "      <td>1594</td>\n",
       "    </tr>\n",
       "    <tr>\n",
       "      <th>LOT_SIZE</th>\n",
       "      <td>2500.0</td>\n",
       "      <td>2500.0</td>\n",
       "      <td>2500.0</td>\n",
       "      <td>2500.0</td>\n",
       "      <td>2500.0</td>\n",
       "    </tr>\n",
       "    <tr>\n",
       "      <th>PARKING</th>\n",
       "      <td>0</td>\n",
       "      <td>0</td>\n",
       "      <td>0</td>\n",
       "      <td>0</td>\n",
       "      <td>0</td>\n",
       "    </tr>\n",
       "    <tr>\n",
       "      <th>PROPERTY_TYPE</th>\n",
       "      <td>NaN</td>\n",
       "      <td>NaN</td>\n",
       "      <td>NaN</td>\n",
       "      <td>NaN</td>\n",
       "      <td>NaN</td>\n",
       "    </tr>\n",
       "    <tr>\n",
       "      <th>LAND_USE</th>\n",
       "      <td>1001</td>\n",
       "      <td>1001</td>\n",
       "      <td>1001</td>\n",
       "      <td>1001</td>\n",
       "      <td>1101</td>\n",
       "    </tr>\n",
       "    <tr>\n",
       "      <th>AGE</th>\n",
       "      <td>119.0</td>\n",
       "      <td>119.0</td>\n",
       "      <td>119.0</td>\n",
       "      <td>119.0</td>\n",
       "      <td>129.0</td>\n",
       "    </tr>\n",
       "    <tr>\n",
       "      <th>STORIES</th>\n",
       "      <td>2.0</td>\n",
       "      <td>2.0</td>\n",
       "      <td>2.0</td>\n",
       "      <td>2.0</td>\n",
       "      <td>2.0</td>\n",
       "    </tr>\n",
       "    <tr>\n",
       "      <th>TOTAL_UNITS</th>\n",
       "      <td>0</td>\n",
       "      <td>0</td>\n",
       "      <td>0</td>\n",
       "      <td>0</td>\n",
       "      <td>1</td>\n",
       "    </tr>\n",
       "    <tr>\n",
       "      <th>GARAGE_TYPE</th>\n",
       "      <td>G</td>\n",
       "      <td>G</td>\n",
       "      <td>NaN</td>\n",
       "      <td>NaN</td>\n",
       "      <td>G</td>\n",
       "    </tr>\n",
       "    <tr>\n",
       "      <th>POOL</th>\n",
       "      <td>NaN</td>\n",
       "      <td>NaN</td>\n",
       "      <td>NaN</td>\n",
       "      <td>NaN</td>\n",
       "      <td>NaN</td>\n",
       "    </tr>\n",
       "    <tr>\n",
       "      <th>FIREPLACE</th>\n",
       "      <td>NaN</td>\n",
       "      <td>NaN</td>\n",
       "      <td>NaN</td>\n",
       "      <td>NaN</td>\n",
       "      <td>NaN</td>\n",
       "    </tr>\n",
       "  </tbody>\n",
       "</table>\n",
       "</div>"
      ],
      "text/plain": [
       "                                       0                    1  \\\n",
       "ZIP                                94607                94607   \n",
       "FIDELITY_LATITUDE     37.803152000000004            37.803141   \n",
       "FIDELITY_LONGITUDE           -122.296821  -122.29676699999999   \n",
       "ASSESSED_LAND_VALUE              15464.0              90000.0   \n",
       "ASSESSED_TOTAL_VALUE             46393.0             210000.0   \n",
       "ASSESSED_IMP_VALUE               61857.0             300000.0   \n",
       "BED                                    2                    2   \n",
       "BATH                                 1.0                  0.5   \n",
       "BUILDING_AREA                        572                  572   \n",
       "LOT_SIZE                          2500.0               2500.0   \n",
       "PARKING                                0                    0   \n",
       "PROPERTY_TYPE                        NaN                  NaN   \n",
       "LAND_USE                            1001                 1001   \n",
       "AGE                                119.0                119.0   \n",
       "STORIES                              2.0                  2.0   \n",
       "TOTAL_UNITS                            0                    0   \n",
       "GARAGE_TYPE                            G                    G   \n",
       "POOL                                 NaN                  NaN   \n",
       "FIREPLACE                            NaN                  NaN   \n",
       "\n",
       "                                        2                    3            4  \n",
       "ZIP                                 94607                94607        94607  \n",
       "FIDELITY_LATITUDE               37.803136            37.803125    37.803093  \n",
       "FIDELITY_LONGITUDE    -122.29673999999999  -122.29668500000001  -122.296523  \n",
       "ASSESSED_LAND_VALUE               17487.0              27290.0      18193.0  \n",
       "ASSESSED_TOTAL_VALUE             125805.0              56096.0      37903.0  \n",
       "ASSESSED_IMP_VALUE               143292.0              83386.0      56096.0  \n",
       "BED                                     4                    4            4  \n",
       "BATH                                  2.0                  1.5          2.0  \n",
       "BUILDING_AREA                        1672                 1144         1594  \n",
       "LOT_SIZE                           2500.0               2500.0       2500.0  \n",
       "PARKING                                 0                    0            0  \n",
       "PROPERTY_TYPE                         NaN                  NaN          NaN  \n",
       "LAND_USE                             1001                 1001         1101  \n",
       "AGE                                 119.0                119.0        129.0  \n",
       "STORIES                               2.0                  2.0          2.0  \n",
       "TOTAL_UNITS                             0                    0            1  \n",
       "GARAGE_TYPE                           NaN                  NaN            G  \n",
       "POOL                                  NaN                  NaN          NaN  \n",
       "FIREPLACE                             NaN                  NaN          NaN  "
      ]
     },
     "execution_count": 2,
     "metadata": {},
     "output_type": "execute_result"
    }
   ],
   "source": [
    "import pandas as pd\n",
    "example = pd.read_csv('data_example.csv', index_col = 'Unnamed: 0', dtype = 'object')\n",
    "\n",
    "sort_order = {'ZIP': 1, 'FIDELITY_LATITUDE': 2, 'FIDELITY_LONGITUDE': 3,\n",
    "              'ASSESSED_LAND_VALUE': 4, 'ASSESSED_TOTAL_VALUE': 5, 'ASSESSED_IMP_VALUE': 6,\n",
    "              'BED': 7, 'BATH': 8, 'BUILDING_AREA': 9, 'LOT_SIZE': 10, 'PARKING': 11,\n",
    "              'PROPERTY_TYPE': 12, 'LAND_USE': 13, 'AGE': 14, 'STORIES': 15, 'TOTAL_UNITS': 16,\n",
    "              'GARAGE_TYPE': 17, 'POOL': 18, 'FIREPLACE': 19}\n",
    "\n",
    "sort_order = pd.Series(sort_order, name = 'rk')\n",
    "example = pd.concat([example, sort_order], axis = 1).sort('rk')\n",
    "del example['rk']\n",
    "example"
   ]
  },
  {
   "cell_type": "markdown",
   "metadata": {
    "slideshow": {
     "slide_type": "subslide"
    }
   },
   "source": [
    "    1. Mapped LAND_USE to ptype\n",
    "    2. Normalized LOT_SIZE to sq feet by assuming it's in acres if it's < 100 (see 3a)\n",
    "    3. Created lot_perc (% of lot size that is not-building) and landval_perc (ASSESSED_LAND_VALUE/ASSESSED_IMP_VALUE)\n",
    "        a. Removed cases where BUILDING_AREA was bigger than LOT_SIZE by > 10% (49860)\n",
    "    4. Stripped out '+B' appendage in STORIES (e.g. 2+B)\n",
    "    5. Removed records with:\n",
    "       a. ASSESSED_TOTAL_VALUE == 0 (41902) -- Land-only parcels\n",
    "       b. ASSESSED_LAND_VALUE == 0 (1694)\n",
    "       c. FIDELITY_LATITUDE == 0 (9081) -- no lat/long info\n",
    "       d. BUILDING_AREA == 0 (73916)\n",
    "       e. BED == 0 (180468)\n",
    "       f. BATH == 0 (98502)\n",
    "       g. STORIES == 0 (small) -- Santa Barbara case\n",
    "       h. AGE NaNs (91851)\n",
    "       i. ptype NaNs (20849) -- likely Land or Commercial\n",
    "       j. STORIES NaNs (500500) -- was conflated with something else\n",
    "       k. PARKING > 10 -- probably sq ft\n",
    "    6. After scaling data, determined STORIES and TOTAL_UNITS need more pruning\n",
    "       a. Removed anything above 5 standard deviations from the mean -- what are you still doing in here??\n",
    "        \n",
    "Started with **1558278** records, ended with **866945**"
   ]
  },
  {
   "cell_type": "markdown",
   "metadata": {
    "slideshow": {
     "slide_type": "subslide"
    }
   },
   "source": [
    "![sf2](p2-img/sf2.png)"
   ]
  },
  {
   "cell_type": "markdown",
   "metadata": {
    "slideshow": {
     "slide_type": "fragment"
    }
   },
   "source": [
    "![sf1](p2-img/sf1.png)"
   ]
  },
  {
   "cell_type": "markdown",
   "metadata": {
    "slideshow": {
     "slide_type": "subslide"
    }
   },
   "source": [
    "![ba_both](p2-img/ba_pre.png)"
   ]
  },
  {
   "cell_type": "markdown",
   "metadata": {
    "slideshow": {
     "slide_type": "subslide"
    }
   },
   "source": [
    "![ba_post](p2-img/ba_post.png)"
   ]
  },
  {
   "cell_type": "markdown",
   "metadata": {
    "slideshow": {
     "slide_type": "subslide"
    }
   },
   "source": [
    "![ba_both](p2-img/ba_both.png)"
   ]
  },
  {
   "cell_type": "code",
   "execution_count": null,
   "metadata": {
    "collapsed": true,
    "slideshow": {
     "slide_type": "subslide"
    }
   },
   "outputs": [],
   "source": [
    "import pandas as pd\n",
    "\n",
    "base = pd.read_csv('base.csv')\n",
    "base = base.drop('Unnamed: 0', axis = 1)\n",
    "base.head().T.to_csv('data_example.csv') # outputting another data example, columns + 5 sample records\n",
    "print 'DataFrame loaded into base, {} records'.format(len(base))\n",
    "\n",
    "lu_ptype = {\n",
    "            1001 : 'SFR',\n",
    "            1002 : 'TOWNHOUSE',\n",
    "            1003 : 'CLUSTER HOME',\n",
    "            1004 : 'CONDO',\n",
    "            1005 : 'COOP',\n",
    "            1006 : 'MOBILE',\n",
    "            1007 : 'ROW HOUSE',\n",
    "            1009 : 'SFR-PUD',\n",
    "            1101 : 'MFR',\n",
    "            1102 : 'MFR',\n",
    "            1103 : 'MFR',\n",
    "            1110 : 'MFR'\n",
    "            }\n",
    "\n",
    "base['ptype'] = base.LAND_USE.map(lu_ptype)\n",
    "\n",
    "basef = base\n",
    "\n",
    "basef = basef[basef.ASSESSED_TOTAL_VALUE > 0] # remove Land\n",
    "basef = basef[basef.FIDELITY_LATITUDE > 0] # remove properties with no lat/long information\n",
    "basef = basef[basef.ASSESSED_LAND_VALUE > 0] # remove properties with no land value\n",
    "basef = basef[basef.BUILDING_AREA > 0] # remove properties with no land value\n",
    "basef = basef[basef.BED > 0]\n",
    "basef = basef[basef.BATH > 0]\n",
    "basef = basef[basef.STORIES > 0]\n",
    "\n",
    "basef2 = basef\n",
    "\n",
    "basef2 = basef2[basef2.AGE.notnull()]\n",
    "basef2 = basef2[basef2.ptype.notnull()]\n",
    "basef2 = basef2[basef2.STORIES.notnull()]\n",
    "\n",
    "basef2 = basef2[basef2.STORIES != 'S/L']\n",
    "basef2.STORIES = basef2.STORIES.replace(r'\\+B*', '', regex = True)\n",
    "basef2.STORIES = basef2.STORIES.astype(float)\n",
    "\n",
    "# looks like lot size has mixed units (feet, acres): I'll attempt to convert acres to feet using the following rule:\n",
    "basef2['lsize_sqft'] = basef2.LOT_SIZE.apply(lambda x: x * 43560 if x < 100 and x < basef2.BUILDING_AREA.iteritems() else x)\n",
    "\n",
    "basef2['landval_perc'] = basef2.ASSESSED_LAND_VALUE / basef2.ASSESSED_IMP_VALUE\n",
    "basef2['lot_perc'] = 1 - basef2.BUILDING_AREA / basef2.lsize_sqft\n",
    "\n",
    "basef2 = basef2[basef2.lot_perc >= -0.1]\n",
    "basef2 = basef2[basef2.PARKING <= 10]\n",
    "basef2 = basef2[basef2.TOTAL_UNITS < 3.5]\n",
    "basef2 = basef2[basef2.STORIES < 4.5]\n",
    "print 'Processed, {} records remaining'.format(len(basef2))"
   ]
  },
  {
   "cell_type": "code",
   "execution_count": 37,
   "metadata": {
    "collapsed": false,
    "slideshow": {
     "slide_type": "subslide"
    }
   },
   "outputs": [
    {
     "name": "stdout",
     "output_type": "stream",
     "text": [
      "DataFrame loaded into base, 1558278 records\n",
      "Processed, 869044 records remaining\n"
     ]
    },
    {
     "name": "stderr",
     "output_type": "stream",
     "text": [
      "C:\\Users\\dfeng\\AppData\\Local\\Continuum\\Anaconda\\lib\\site-packages\\pandas\\io\\parsers.py:1170: DtypeWarning: Columns (8,13,14) have mixed types. Specify dtype option on import or set low_memory=False.\n",
      "  data = self._reader.read(nrows)\n"
     ]
    }
   ],
   "source": [
    "%run 03-process.py"
   ]
  },
  {
   "cell_type": "markdown",
   "metadata": {
    "slideshow": {
     "slide_type": "slide"
    }
   },
   "source": [
    "## 3. Dimensionality Reduction\n",
    "Using principal component analysis (PCA)"
   ]
  },
  {
   "cell_type": "code",
   "execution_count": 38,
   "metadata": {
    "collapsed": false,
    "slideshow": {
     "slide_type": "subslide"
    }
   },
   "outputs": [
    {
     "data": {
      "text/html": [
       "<div style=\"max-height:1000px;max-width:1500px;overflow:auto;\">\n",
       "<table border=\"1\" class=\"dataframe\">\n",
       "  <thead>\n",
       "    <tr style=\"text-align: right;\">\n",
       "      <th></th>\n",
       "      <th>ASSESSED_IMP_VALUE</th>\n",
       "      <th>landval_perc</th>\n",
       "      <th>BED</th>\n",
       "      <th>BATH</th>\n",
       "      <th>AGE</th>\n",
       "      <th>STORIES</th>\n",
       "      <th>PARKING</th>\n",
       "      <th>TOTAL_UNITS</th>\n",
       "      <th>BUILDING_AREA</th>\n",
       "      <th>lot_perc</th>\n",
       "      <th>ptype</th>\n",
       "    </tr>\n",
       "  </thead>\n",
       "  <tbody>\n",
       "    <tr>\n",
       "      <th>0</th>\n",
       "      <td>61857</td>\n",
       "      <td>0.249996</td>\n",
       "      <td>2</td>\n",
       "      <td>1.0</td>\n",
       "      <td>119</td>\n",
       "      <td>2</td>\n",
       "      <td>0</td>\n",
       "      <td>0</td>\n",
       "      <td>572</td>\n",
       "      <td>0.7712</td>\n",
       "      <td>SFR</td>\n",
       "    </tr>\n",
       "    <tr>\n",
       "      <th>1</th>\n",
       "      <td>300000</td>\n",
       "      <td>0.300000</td>\n",
       "      <td>2</td>\n",
       "      <td>0.5</td>\n",
       "      <td>119</td>\n",
       "      <td>2</td>\n",
       "      <td>0</td>\n",
       "      <td>0</td>\n",
       "      <td>572</td>\n",
       "      <td>0.7712</td>\n",
       "      <td>SFR</td>\n",
       "    </tr>\n",
       "    <tr>\n",
       "      <th>2</th>\n",
       "      <td>143292</td>\n",
       "      <td>0.122038</td>\n",
       "      <td>4</td>\n",
       "      <td>2.0</td>\n",
       "      <td>119</td>\n",
       "      <td>2</td>\n",
       "      <td>0</td>\n",
       "      <td>0</td>\n",
       "      <td>1672</td>\n",
       "      <td>0.3312</td>\n",
       "      <td>SFR</td>\n",
       "    </tr>\n",
       "    <tr>\n",
       "      <th>3</th>\n",
       "      <td>83386</td>\n",
       "      <td>0.327273</td>\n",
       "      <td>4</td>\n",
       "      <td>1.5</td>\n",
       "      <td>119</td>\n",
       "      <td>2</td>\n",
       "      <td>0</td>\n",
       "      <td>0</td>\n",
       "      <td>1144</td>\n",
       "      <td>0.5424</td>\n",
       "      <td>SFR</td>\n",
       "    </tr>\n",
       "    <tr>\n",
       "      <th>4</th>\n",
       "      <td>56096</td>\n",
       "      <td>0.324319</td>\n",
       "      <td>4</td>\n",
       "      <td>2.0</td>\n",
       "      <td>129</td>\n",
       "      <td>2</td>\n",
       "      <td>0</td>\n",
       "      <td>1</td>\n",
       "      <td>1594</td>\n",
       "      <td>0.3624</td>\n",
       "      <td>MFR</td>\n",
       "    </tr>\n",
       "  </tbody>\n",
       "</table>\n",
       "</div>"
      ],
      "text/plain": [
       "   ASSESSED_IMP_VALUE  landval_perc  BED  BATH  AGE  STORIES  PARKING  \\\n",
       "0               61857      0.249996    2   1.0  119        2        0   \n",
       "1              300000      0.300000    2   0.5  119        2        0   \n",
       "2              143292      0.122038    4   2.0  119        2        0   \n",
       "3               83386      0.327273    4   1.5  119        2        0   \n",
       "4               56096      0.324319    4   2.0  129        2        0   \n",
       "\n",
       "   TOTAL_UNITS  BUILDING_AREA  lot_perc ptype  \n",
       "0            0            572    0.7712   SFR  \n",
       "1            0            572    0.7712   SFR  \n",
       "2            0           1672    0.3312   SFR  \n",
       "3            0           1144    0.5424   SFR  \n",
       "4            1           1594    0.3624   MFR  "
      ]
     },
     "execution_count": 38,
     "metadata": {},
     "output_type": "execute_result"
    }
   ],
   "source": [
    "# creating advanced metrics, then defining which I'll use to model\n",
    "import pandas as pd\n",
    "from seaborn import plt\n",
    "import seaborn as sns\n",
    "%matplotlib inline\n",
    "\n",
    "metrics = ['ASSESSED_IMP_VALUE',\n",
    "           'landval_perc',\n",
    "           'BED',\n",
    "           'BATH',\n",
    "           'AGE',\n",
    "           'STORIES',\n",
    "           # 'GARAGE_TYPE',\n",
    "           'PARKING',\n",
    "           'TOTAL_UNITS',\n",
    "           # 'POOL',\n",
    "           # 'FIREPLACE',\n",
    "           'BUILDING_AREA',\n",
    "           'lot_perc',\n",
    "           'ptype']\n",
    "\n",
    "X = basef2[metrics]\n",
    "basef2[metrics].head()"
   ]
  },
  {
   "cell_type": "code",
   "execution_count": 39,
   "metadata": {
    "collapsed": false,
    "slideshow": {
     "slide_type": "subslide"
    }
   },
   "outputs": [
    {
     "name": "stdout",
     "output_type": "stream",
     "text": [
      "2871\n",
      "866126\n"
     ]
    },
    {
     "name": "stderr",
     "output_type": "stream",
     "text": [
      "C:\\Users\\dfeng\\AppData\\Local\\Continuum\\Anaconda\\lib\\site-packages\\sklearn\\preprocessing\\data.py:153: UserWarning: Numerical issues were encountered when centering the data and might not be solved. Dataset may contain too large values. You may need to prescale your features.\n",
      "  warnings.warn(\"Numerical issues were encountered \"\n"
     ]
    },
    {
     "data": {
      "text/html": [
       "<div style=\"max-height:1000px;max-width:1500px;overflow:auto;\">\n",
       "<table border=\"1\" class=\"dataframe\">\n",
       "  <thead>\n",
       "    <tr style=\"text-align: right;\">\n",
       "      <th></th>\n",
       "      <th>PC1</th>\n",
       "      <th>PC2</th>\n",
       "      <th>PC3</th>\n",
       "      <th>PC4</th>\n",
       "      <th>PC5</th>\n",
       "      <th>PC6</th>\n",
       "      <th>PC7</th>\n",
       "      <th>PC8</th>\n",
       "      <th>PC9</th>\n",
       "      <th>PC10</th>\n",
       "    </tr>\n",
       "  </thead>\n",
       "  <tbody>\n",
       "    <tr>\n",
       "      <th>ASSESSED_IMP_VALUE</th>\n",
       "      <td>0.331210</td>\n",
       "      <td>-0.410668</td>\n",
       "      <td>0.305217</td>\n",
       "      <td>-0.170172</td>\n",
       "      <td>0.086726</td>\n",
       "      <td>-0.552182</td>\n",
       "      <td>-0.026669</td>\n",
       "      <td>-0.033076</td>\n",
       "      <td>-0.456640</td>\n",
       "      <td>0.277097</td>\n",
       "    </tr>\n",
       "    <tr>\n",
       "      <th>landval_perc</th>\n",
       "      <td>-0.052213</td>\n",
       "      <td>-0.598199</td>\n",
       "      <td>0.499108</td>\n",
       "      <td>0.020727</td>\n",
       "      <td>0.264233</td>\n",
       "      <td>0.461476</td>\n",
       "      <td>0.066000</td>\n",
       "      <td>0.191181</td>\n",
       "      <td>0.211562</td>\n",
       "      <td>-0.146458</td>\n",
       "    </tr>\n",
       "    <tr>\n",
       "      <th>BED</th>\n",
       "      <td>0.381523</td>\n",
       "      <td>0.003252</td>\n",
       "      <td>-0.169198</td>\n",
       "      <td>-0.244324</td>\n",
       "      <td>-0.335931</td>\n",
       "      <td>0.535046</td>\n",
       "      <td>0.355458</td>\n",
       "      <td>0.185536</td>\n",
       "      <td>-0.447922</td>\n",
       "      <td>0.074670</td>\n",
       "    </tr>\n",
       "    <tr>\n",
       "      <th>BATH</th>\n",
       "      <td>0.474446</td>\n",
       "      <td>0.073380</td>\n",
       "      <td>-0.016289</td>\n",
       "      <td>-0.143317</td>\n",
       "      <td>0.022286</td>\n",
       "      <td>-0.019867</td>\n",
       "      <td>0.120107</td>\n",
       "      <td>0.071117</td>\n",
       "      <td>0.662903</td>\n",
       "      <td>0.537491</td>\n",
       "    </tr>\n",
       "    <tr>\n",
       "      <th>AGE</th>\n",
       "      <td>-0.322274</td>\n",
       "      <td>-0.182244</td>\n",
       "      <td>0.226127</td>\n",
       "      <td>-0.272152</td>\n",
       "      <td>-0.658784</td>\n",
       "      <td>0.099880</td>\n",
       "      <td>-0.172284</td>\n",
       "      <td>-0.445602</td>\n",
       "      <td>0.117222</td>\n",
       "      <td>0.227530</td>\n",
       "    </tr>\n",
       "    <tr>\n",
       "      <th>STORIES</th>\n",
       "      <td>0.320360</td>\n",
       "      <td>0.297951</td>\n",
       "      <td>0.315660</td>\n",
       "      <td>0.157445</td>\n",
       "      <td>-0.084653</td>\n",
       "      <td>0.229022</td>\n",
       "      <td>-0.761570</td>\n",
       "      <td>0.168653</td>\n",
       "      <td>-0.121278</td>\n",
       "      <td>0.037502</td>\n",
       "    </tr>\n",
       "    <tr>\n",
       "      <th>PARKING</th>\n",
       "      <td>0.281045</td>\n",
       "      <td>-0.329647</td>\n",
       "      <td>-0.384821</td>\n",
       "      <td>0.399548</td>\n",
       "      <td>0.171434</td>\n",
       "      <td>0.234914</td>\n",
       "      <td>-0.160802</td>\n",
       "      <td>-0.620407</td>\n",
       "      <td>-0.054944</td>\n",
       "      <td>0.079157</td>\n",
       "    </tr>\n",
       "    <tr>\n",
       "      <th>TOTAL_UNITS</th>\n",
       "      <td>-0.035964</td>\n",
       "      <td>0.339905</td>\n",
       "      <td>0.172813</td>\n",
       "      <td>-0.571718</td>\n",
       "      <td>0.531425</td>\n",
       "      <td>0.207813</td>\n",
       "      <td>-0.002818</td>\n",
       "      <td>-0.433850</td>\n",
       "      <td>-0.110784</td>\n",
       "      <td>0.018448</td>\n",
       "    </tr>\n",
       "    <tr>\n",
       "      <th>BUILDING_AREA</th>\n",
       "      <td>0.461836</td>\n",
       "      <td>-0.054894</td>\n",
       "      <td>0.026707</td>\n",
       "      <td>-0.251543</td>\n",
       "      <td>-0.211136</td>\n",
       "      <td>-0.185753</td>\n",
       "      <td>-0.016106</td>\n",
       "      <td>-0.180826</td>\n",
       "      <td>0.245540</td>\n",
       "      <td>-0.739850</td>\n",
       "    </tr>\n",
       "    <tr>\n",
       "      <th>lot_perc</th>\n",
       "      <td>-0.129818</td>\n",
       "      <td>-0.344835</td>\n",
       "      <td>-0.547175</td>\n",
       "      <td>-0.491679</td>\n",
       "      <td>0.108491</td>\n",
       "      <td>0.012822</td>\n",
       "      <td>-0.467291</td>\n",
       "      <td>0.300067</td>\n",
       "      <td>0.051150</td>\n",
       "      <td>0.011593</td>\n",
       "    </tr>\n",
       "  </tbody>\n",
       "</table>\n",
       "</div>"
      ],
      "text/plain": [
       "                         PC1       PC2       PC3       PC4       PC5  \\\n",
       "ASSESSED_IMP_VALUE  0.331210 -0.410668  0.305217 -0.170172  0.086726   \n",
       "landval_perc       -0.052213 -0.598199  0.499108  0.020727  0.264233   \n",
       "BED                 0.381523  0.003252 -0.169198 -0.244324 -0.335931   \n",
       "BATH                0.474446  0.073380 -0.016289 -0.143317  0.022286   \n",
       "AGE                -0.322274 -0.182244  0.226127 -0.272152 -0.658784   \n",
       "STORIES             0.320360  0.297951  0.315660  0.157445 -0.084653   \n",
       "PARKING             0.281045 -0.329647 -0.384821  0.399548  0.171434   \n",
       "TOTAL_UNITS        -0.035964  0.339905  0.172813 -0.571718  0.531425   \n",
       "BUILDING_AREA       0.461836 -0.054894  0.026707 -0.251543 -0.211136   \n",
       "lot_perc           -0.129818 -0.344835 -0.547175 -0.491679  0.108491   \n",
       "\n",
       "                         PC6       PC7       PC8       PC9      PC10  \n",
       "ASSESSED_IMP_VALUE -0.552182 -0.026669 -0.033076 -0.456640  0.277097  \n",
       "landval_perc        0.461476  0.066000  0.191181  0.211562 -0.146458  \n",
       "BED                 0.535046  0.355458  0.185536 -0.447922  0.074670  \n",
       "BATH               -0.019867  0.120107  0.071117  0.662903  0.537491  \n",
       "AGE                 0.099880 -0.172284 -0.445602  0.117222  0.227530  \n",
       "STORIES             0.229022 -0.761570  0.168653 -0.121278  0.037502  \n",
       "PARKING             0.234914 -0.160802 -0.620407 -0.054944  0.079157  \n",
       "TOTAL_UNITS         0.207813 -0.002818 -0.433850 -0.110784  0.018448  \n",
       "BUILDING_AREA      -0.185753 -0.016106 -0.180826  0.245540 -0.739850  \n",
       "lot_perc            0.012822 -0.467291  0.300067  0.051150  0.011593  "
      ]
     },
     "execution_count": 39,
     "metadata": {},
     "output_type": "execute_result"
    },
    {
     "data": {
      "image/png": "[encoded data removed]",
      "text/plain": [
       "<matplotlib.figure.Figure at 0x1b06b5c0>"
      ]
     },
     "metadata": {},
     "output_type": "display_data"
    }
   ],
   "source": [
    "dummies = pd.get_dummies(X.ptype)\n",
    "X_cont = X.iloc[:,0:-1]\n",
    "X_dum = pd.concat([X_cont, dummies], axis = 1)\n",
    "\n",
    "from sklearn.preprocessing import scale\n",
    "\n",
    "# not scaling dummy variables since it looks weird\n",
    "X_scaled = scale(X_cont)\n",
    "X_scaled = pd.DataFrame(X_scaled, columns = X_cont.columns, index = X_cont.index)\n",
    "X_het = pd.concat([X_scaled, dummies], axis = 1)\n",
    "\n",
    "print len(X_het[X_scaled.STORIES > 5]) | len(X_het[X_scaled.TOTAL_UNITS > 5])\n",
    "XS = X_het[(X_scaled.STORIES <= 5) & (X_scaled.TOTAL_UNITS <= 5)]\n",
    "print len(XS)\n",
    "\n",
    "X_pca = X_scaled[(X_scaled.STORIES <= 5) & (X_scaled.TOTAL_UNITS <= 5)]\n",
    "\n",
    "from sklearn.decomposition import PCA\n",
    "\n",
    "pca = PCA(whiten = True)\n",
    "pca.fit(X_pca)\n",
    "\n",
    "# check out the loadings\n",
    "loadings = pd.DataFrame(pca.components_, index = map('PC{}'.format, range(1,len(X_scaled.columns)+1)), columns = X_scaled.columns).T\n",
    "sns.heatmap(loadings)\n",
    "loadings"
   ]
  },
  {
   "cell_type": "code",
   "execution_count": 40,
   "metadata": {
    "collapsed": false,
    "slideshow": {
     "slide_type": "subslide"
    }
   },
   "outputs": [
    {
     "data": {
      "text/html": [
       "<div style=\"max-height:1000px;max-width:1500px;overflow:auto;\">\n",
       "<table border=\"1\" class=\"dataframe\">\n",
       "  <thead>\n",
       "    <tr style=\"text-align: right;\">\n",
       "      <th></th>\n",
       "      <th>PC1</th>\n",
       "      <th>PC2</th>\n",
       "      <th>PC3</th>\n",
       "      <th>PC4</th>\n",
       "      <th>PC5</th>\n",
       "      <th>PC6</th>\n",
       "      <th>PC7</th>\n",
       "      <th>PC8</th>\n",
       "      <th>PC9</th>\n",
       "      <th>PC10</th>\n",
       "    </tr>\n",
       "  </thead>\n",
       "  <tbody>\n",
       "    <tr>\n",
       "      <th>Variance Ratio</th>\n",
       "      <td>0.350604</td>\n",
       "      <td>0.139061</td>\n",
       "      <td>0.120025</td>\n",
       "      <td>0.110880</td>\n",
       "      <td>0.078382</td>\n",
       "      <td>0.057682</td>\n",
       "      <td>0.052385</td>\n",
       "      <td>0.042904</td>\n",
       "      <td>0.028765</td>\n",
       "      <td>0.019314</td>\n",
       "    </tr>\n",
       "    <tr>\n",
       "      <th>Cumulative Variance Ratio</th>\n",
       "      <td>0.350604</td>\n",
       "      <td>0.489664</td>\n",
       "      <td>0.609689</td>\n",
       "      <td>0.720569</td>\n",
       "      <td>0.798951</td>\n",
       "      <td>0.856633</td>\n",
       "      <td>0.909018</td>\n",
       "      <td>0.951922</td>\n",
       "      <td>0.980686</td>\n",
       "      <td>1.000000</td>\n",
       "    </tr>\n",
       "  </tbody>\n",
       "</table>\n",
       "</div>"
      ],
      "text/plain": [
       "                                PC1       PC2       PC3       PC4       PC5  \\\n",
       "Variance Ratio             0.350604  0.139061  0.120025  0.110880  0.078382   \n",
       "Cumulative Variance Ratio  0.350604  0.489664  0.609689  0.720569  0.798951   \n",
       "\n",
       "                                PC6       PC7       PC8       PC9      PC10  \n",
       "Variance Ratio             0.057682  0.052385  0.042904  0.028765  0.019314  \n",
       "Cumulative Variance Ratio  0.856633  0.909018  0.951922  0.980686  1.000000  "
      ]
     },
     "execution_count": 40,
     "metadata": {},
     "output_type": "execute_result"
    },
    {
     "data": {
      "image/png": "[encoded data removed]",
      "text/plain": [
       "<matplotlib.figure.Figure at 0x1b5f4128>"
      ]
     },
     "metadata": {},
     "output_type": "display_data"
    }
   ],
   "source": [
    "p = pd.DataFrame([pca.explained_variance_ratio_, pca.explained_variance_ratio_.cumsum()],\n",
    "             index = ['Variance Ratio', 'Cumulative Variance Ratio'],\n",
    "             columns = map('PC{}'.format, range(1, len(pca.components_)+1)))\n",
    "p.T['Variance Ratio'].plot(kind = 'bar')\n",
    "p"
   ]
  },
  {
   "cell_type": "code",
   "execution_count": 41,
   "metadata": {
    "collapsed": false,
    "slideshow": {
     "slide_type": "subslide"
    }
   },
   "outputs": [
    {
     "data": {
      "text/plain": [
       "<matplotlib.collections.PathCollection at 0x2b4dcda0>"
      ]
     },
     "execution_count": 41,
     "metadata": {},
     "output_type": "execute_result"
    },
    {
     "data": {
      "image/png": "[encoded data removed]",
      "text/plain": [
       "<matplotlib.figure.Figure at 0x2028dc50>"
      ]
     },
     "metadata": {},
     "output_type": "display_data"
    }
   ],
   "source": [
    "pca2 = PCA(2, whiten=True)\n",
    "X_pca2 = pca2.fit_transform(X_pca)\n",
    "plt.figure(figsize=(12,9))\n",
    "plt.scatter(X_pca2[:,0], X_pca2[:,1], s=2, alpha=.2)"
   ]
  },
  {
   "cell_type": "markdown",
   "metadata": {
    "slideshow": {
     "slide_type": "slide"
    }
   },
   "source": [
    "## 4. Clustering\n",
    "Using kMeans"
   ]
  },
  {
   "cell_type": "markdown",
   "metadata": {
    "slideshow": {
     "slide_type": "subslide"
    }
   },
   "source": [
    "![kmeans](p2-img/kmeans.png)"
   ]
  },
  {
   "cell_type": "markdown",
   "metadata": {
    "slideshow": {
     "slide_type": "subslide"
    }
   },
   "source": [
    "![kmeans5_sf](p2-img/kmeans5_sf.png)"
   ]
  },
  {
   "cell_type": "markdown",
   "metadata": {
    "slideshow": {
     "slide_type": "subslide"
    }
   },
   "source": [
    "![kmeans5_sf](p2-img/kmeans5_eb.png)"
   ]
  },
  {
   "cell_type": "markdown",
   "metadata": {
    "slideshow": {
     "slide_type": "subslide"
    }
   },
   "source": [
    "![kmeans5_sf](p2-img/kmeans5_ba.png)"
   ]
  },
  {
   "cell_type": "markdown",
   "metadata": {
    "slideshow": {
     "slide_type": "slide"
    }
   },
   "source": [
    "## 5. Classification to draw the decision boundaries\n",
    "Tried Support Vector Machine but it does not scale well with `n_features`, switched to k-Nearest-Neighbors"
   ]
  },
  {
   "cell_type": "markdown",
   "metadata": {
    "slideshow": {
     "slide_type": "subslide"
    }
   },
   "source": [
    "![tuning1](p2-img/tuning1.png)"
   ]
  },
  {
   "cell_type": "markdown",
   "metadata": {
    "slideshow": {
     "slide_type": "fragment"
    }
   },
   "source": [
    "![tuning1](p2-img/tuning2.png)"
   ]
  },
  {
   "cell_type": "markdown",
   "metadata": {
    "slideshow": {
     "slide_type": "subslide"
    }
   },
   "source": [
    "![tuning1](p2-img/knn15_sf.png)"
   ]
  },
  {
   "cell_type": "markdown",
   "metadata": {
    "slideshow": {
     "slide_type": "subslide"
    }
   },
   "source": [
    "![tuning1](p2-img/knn15_eb.png)"
   ]
  },
  {
   "cell_type": "markdown",
   "metadata": {
    "slideshow": {
     "slide_type": "subslide"
    }
   },
   "source": [
    "![tuning1](p2-img/knn15_ba.png)"
   ]
  },
  {
   "cell_type": "markdown",
   "metadata": {
    "slideshow": {
     "slide_type": "slide"
    }
   },
   "source": [
    "## 6. Inference"
   ]
  },
  {
   "cell_type": "markdown",
   "metadata": {
    "slideshow": {
     "slide_type": "subslide"
    }
   },
   "source": [
    "![tuning1](p2-img/radial.png)"
   ]
  },
  {
   "cell_type": "markdown",
   "metadata": {
    "slideshow": {
     "slide_type": "subslide"
    }
   },
   "source": [
    "![tuning1](p2-img/clusters.png)"
   ]
  },
  {
   "cell_type": "markdown",
   "metadata": {
    "slideshow": {
     "slide_type": "subslide"
    }
   },
   "source": [
    "# What's Next\n",
    " \n",
    "    1. Model improvements\n",
    "        a. ~PARALLELIZE!!!~ not needed for kNN\n",
    "        b. ~~Try kNN~~ Faster than SVM, good\n",
    "        c. Pipeline the clustering with SVC - not sure if possible\n",
    "        d. ~~Understand a good threshold for max_iter for SVC~~ not needed for kNN\n",
    "        e. ~~Try different values for k-means~~ optimized using silhouette score\n",
    "        f. Try DBSCAN, Birch\n",
    "        g. ~~Check out clusters in PCA~~ does not look separable \n",
    "        h. Run separate model for each `ptype`\n",
    "        i. Cluster neighborhoods instead\n",
    "        j. Classification with consumer searched homes instead (easier point-to-point recommendations)\n",
    "        k. Cluster evolution through the years\n",
    "        l. Generalize to other metros\n",
    "    2. Clean up the map\n",
    "        a. Build via zipcode\n",
    "        b. Add existing neighborhood, city, zip layers (faint gray outline)\n",
    "        c. Remove the mesh when in the water\n",
    "        d. Build via tileplots and hexbins\n",
    "    3. Additional features\n",
    "        a. Use POOL, FIREPLACE, GARAGE\n",
    "        b. Use Google Elevation API to add elevation as a feature\n",
    "        c. Add restaurant, bar data layers\n",
    "    4. Improve understanding\n",
    "        a. ~~Analyze cluster attributes~~ used spider plot\n",
    "        b. Text-mine listing descriptions to label clusters\n",
    "        c. Investigate the thrown-out data"
   ]
  }
 ],
 "metadata": {
  "celltoolbar": "Slideshow",
  "kernelspec": {
   "display_name": "Python 2",
   "language": "python",
   "name": "python2"
  },
  "language_info": {
   "codemirror_mode": {
    "name": "ipython",
    "version": 2
   },
   "file_extension": ".py",
   "mimetype": "text/x-python",
   "name": "python",
   "nbconvert_exporter": "python",
   "pygments_lexer": "ipython2",
   "version": "2.7.7"
  }
 },
 "nbformat": 4,
 "nbformat_minor": 0
}
